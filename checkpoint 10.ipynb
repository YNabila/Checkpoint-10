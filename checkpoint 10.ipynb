{
 "cells": [
  {
   "cell_type": "markdown",
   "id": "2e94fcb1",
   "metadata": {},
   "source": [
    "## Checkpoint 10"
   ]
  },
  {
   "cell_type": "markdown",
   "id": "73701e66",
   "metadata": {},
   "source": [
    "1. Write a Python program for a binary search."
   ]
  },
  {
   "cell_type": "code",
   "execution_count": 1,
   "id": "cc791832",
   "metadata": {},
   "outputs": [],
   "source": [
    "def binary_search(sequence,item):\n",
    "    begin_index=0\n",
    "    end_index=len(sequence)-1\n",
    "    \n",
    "    while begin_index<=end_index:\n",
    "        midpoint=begin_index+(end_index-begin_index)//2\n",
    "        midpoint_value=sequence[midpoint]\n",
    "        if midpoint_value==item:\n",
    "            return midpoint\n",
    "        elif midpoint_value<item:\n",
    "            begin_index=midpoint+1\n",
    "        else:\n",
    "            end_index=midpoint-1\n",
    "    return print(\"False\")\n"
   ]
  },
  {
   "cell_type": "code",
   "execution_count": 2,
   "id": "6100211f",
   "metadata": {},
   "outputs": [
    {
     "data": {
      "text/plain": [
       "3"
      ]
     },
     "execution_count": 2,
     "metadata": {},
     "output_type": "execute_result"
    }
   ],
   "source": [
    "binary_search([1,2,3,5,8], 5)"
   ]
  },
  {
   "cell_type": "code",
   "execution_count": 3,
   "id": "95df8528",
   "metadata": {},
   "outputs": [
    {
     "name": "stdout",
     "output_type": "stream",
     "text": [
      "False\n"
     ]
    }
   ],
   "source": [
    "binary_search([1,2,3,5,8], 6)"
   ]
  },
  {
   "cell_type": "markdown",
   "id": "a55699d0",
   "metadata": {},
   "source": [
    "2. Write a Python program to calculate the value of 'a' to the power 'b'."
   ]
  },
  {
   "cell_type": "code",
   "execution_count": 4,
   "id": "390dab03",
   "metadata": {},
   "outputs": [],
   "source": [
    "def power(a,b):\n",
    "    if b==0:\n",
    "        return 1\n",
    "    else:\n",
    "        return a*power(a,b-1)"
   ]
  },
  {
   "cell_type": "code",
   "execution_count": 5,
   "id": "9943260f",
   "metadata": {},
   "outputs": [
    {
     "data": {
      "text/plain": [
       "81"
      ]
     },
     "execution_count": 5,
     "metadata": {},
     "output_type": "execute_result"
    }
   ],
   "source": [
    "power(3,4)"
   ]
  },
  {
   "cell_type": "markdown",
   "id": "7f283048",
   "metadata": {},
   "source": [
    " 3. Write a Python program to sort a list of elements using the bubble sort algorithm."
   ]
  },
  {
   "cell_type": "code",
   "execution_count": 6,
   "id": "cbcc835c",
   "metadata": {},
   "outputs": [],
   "source": [
    "def bubble_sort(sequence):\n",
    "    for j in range(1,len(sequence)):\n",
    "        for i in range(0,len(sequence)-1):\n",
    "            if sequence[i]>sequence[i+1]:\n",
    "                temp=sequence[i]\n",
    "                sequence[i]=sequence[i+1]\n",
    "                sequence[i+1]=temp\n",
    "    return sequence"
   ]
  },
  {
   "cell_type": "code",
   "execution_count": 7,
   "id": "d1433591",
   "metadata": {},
   "outputs": [
    {
     "data": {
      "text/plain": [
       "[13, 22, 29, 37, 46, 49, 52, 56, 71]"
      ]
     },
     "execution_count": 7,
     "metadata": {},
     "output_type": "execute_result"
    }
   ],
   "source": [
    "bubble_sort([29,13,22,37,52,49,46,71,56])"
   ]
  },
  {
   "cell_type": "markdown",
   "id": "c217470d",
   "metadata": {},
   "source": [
    "4. Write a Python program to sort a list of elements using the merge sort algorithm."
   ]
  },
  {
   "cell_type": "code",
   "execution_count": 8,
   "id": "929caba1",
   "metadata": {},
   "outputs": [],
   "source": [
    "def mergeSort(myList):\n",
    "    if len(myList) > 1:\n",
    "        mid = len(myList) // 2\n",
    "        left = myList[:mid]\n",
    "        right = myList[mid:]\n",
    "        \n",
    "        mergeSort(left)\n",
    "        mergeSort(right)\n",
    "\n",
    "        i = 0\n",
    "        j = 0\n",
    "        \n",
    "        k = 0\n",
    "        \n",
    "        while i < len(left) and j < len(right):\n",
    "            if left[i] < right[j]:\n",
    "        \n",
    "              myList[k] = left[i]\n",
    "               \n",
    "              i += 1\n",
    "            else:\n",
    "                myList[k] = right[j]\n",
    "                j += 1\n",
    "             \n",
    "            k += 1\n",
    "\n",
    "        \n",
    "        while i < len(left):\n",
    "            myList[k] = left[i]\n",
    "            i += 1\n",
    "            k += 1\n",
    "\n",
    "        while j < len(right):\n",
    "            myList[k]=right[j]\n",
    "            j += 1\n",
    "            k += 1\n",
    "\n",
    "    return myList"
   ]
  },
  {
   "cell_type": "code",
   "execution_count": 9,
   "id": "e37ca631",
   "metadata": {},
   "outputs": [
    {
     "data": {
      "text/plain": [
       "[13, 22, 29, 37, 46, 49, 52, 56, 71]"
      ]
     },
     "execution_count": 9,
     "metadata": {},
     "output_type": "execute_result"
    }
   ],
   "source": [
    "mergeSort([29,13,22,37,52,49,46,71,56])"
   ]
  },
  {
   "cell_type": "code",
   "execution_count": 10,
   "id": "7d5145c0",
   "metadata": {},
   "outputs": [],
   "source": [
    "def partition(array, start, end):\n",
    "    pivot = array[start]\n",
    "    low = start + 1\n",
    "    high = end\n",
    "    while True:\n",
    "        \n",
    "        while low <= high and array[high] >= pivot:\n",
    "            high = high - 1\n",
    "\n",
    "        \n",
    "        while low <= high and array[low] <= pivot:\n",
    "            low = low + 1\n",
    "\n",
    "         \n",
    "        if low <= high:\n",
    "            array[low], array[high] = array[high], array[low]\n",
    "            \n",
    "        else:\n",
    "             \n",
    "            break\n",
    "\n",
    "    array[start], array[high] = array[high], array[start]\n",
    "\n",
    "    return high"
   ]
  },
  {
   "cell_type": "code",
   "execution_count": 11,
   "id": "83ffe895",
   "metadata": {},
   "outputs": [],
   "source": [
    "def quick_sort(array, start, end):\n",
    "    if start >= end:\n",
    "        return\n",
    "\n",
    "    p = partition(array, start, end)\n",
    "    quick_sort(array, start, p-1)\n",
    "    quick_sort(array, p+1, end)"
   ]
  },
  {
   "cell_type": "code",
   "execution_count": 12,
   "id": "0ccdb306",
   "metadata": {},
   "outputs": [
    {
     "name": "stdout",
     "output_type": "stream",
     "text": [
      "[13, 22, 29, 37, 46, 49, 52, 56, 71]\n"
     ]
    }
   ],
   "source": [
    "array = [29,13,22,37,52,49,46,71,56]\n",
    "quick_sort(array, 0, len(array) - 1)\n",
    "print(array)"
   ]
  },
  {
   "cell_type": "code",
   "execution_count": null,
   "id": "98469769",
   "metadata": {},
   "outputs": [],
   "source": []
  }
 ],
 "metadata": {
  "kernelspec": {
   "display_name": "Python 3 (ipykernel)",
   "language": "python",
   "name": "python3"
  },
  "language_info": {
   "codemirror_mode": {
    "name": "ipython",
    "version": 3
   },
   "file_extension": ".py",
   "mimetype": "text/x-python",
   "name": "python",
   "nbconvert_exporter": "python",
   "pygments_lexer": "ipython3",
   "version": "3.9.12"
  }
 },
 "nbformat": 4,
 "nbformat_minor": 5
}
